{
  "nbformat": 4,
  "nbformat_minor": 0,
  "metadata": {
    "kernelspec": {
      "display_name": "Python 3",
      "language": "python",
      "name": "python3"
    },
    "language_info": {
      "codemirror_mode": {
        "name": "ipython",
        "version": 3
      },
      "file_extension": ".py",
      "mimetype": "text/x-python",
      "name": "python",
      "nbconvert_exporter": "python",
      "pygments_lexer": "ipython3",
      "version": "3.6.8"
    },
    "toc": {
      "base_numbering": 1,
      "nav_menu": {},
      "number_sections": true,
      "sideBar": true,
      "skip_h1_title": false,
      "title_cell": "Table of Contents",
      "title_sidebar": "Contents",
      "toc_cell": false,
      "toc_position": {},
      "toc_section_display": true,
      "toc_window_display": false
    },
    "colab": {
      "name": "diagnosis_LR.ipynb",
      "version": "0.3.2",
      "provenance": []
    }
  },
  "cells": [
    {
      "cell_type": "code",
      "metadata": {
        "id": "DMB-Dc3LfV0N",
        "colab_type": "code",
        "colab": {}
      },
      "source": [
        "import glob\n",
        "import sys\n",
        "import numpy as np\n",
        "import nltk\n",
        "from nltk.stem import WordNetLemmatizer\n",
        "from nltk.tokenize import sent_tokenize, word_tokenize\n",
        "from sklearn.linear_model import LogisticRegression as LR\n",
        "from sklearn.feature_extraction.text import CountVectorizer\n",
        "from sklearn.feature_extraction import DictVectorizer\n",
        "from sklearn.feature_extraction.text import TfidfTransformer\n",
        "from sklearn.metrics import *\n",
        "from sklearn.model_selection import KFold\n",
        "from sklearn.pipeline import Pipeline\n",
        "from sklearn.pipeline import FeatureUnion\n",
        "from sklearn.base import BaseEstimator, TransformerMixin\n",
        "import pandas as pd"
      ],
      "execution_count": 0,
      "outputs": []
    },
    {
      "cell_type": "code",
      "metadata": {
        "id": "mAP0ZHVpfV0S",
        "colab_type": "code",
        "colab": {}
      },
      "source": [
        ""
      ],
      "execution_count": 0,
      "outputs": []
    },
    {
      "cell_type": "code",
      "metadata": {
        "id": "7HqQQHbQfV0V",
        "colab_type": "code",
        "outputId": "1379ebcb-d061-4b5c-a2bd-eb278567b3f5",
        "colab": {
          "base_uri": "https://localhost:8080/",
          "height": 209
        }
      },
      "source": [
        "# pd.read_csv('https://storage.cloud.google.com/kkbox-churn/PTSD_data_annotated.csv', encoding = 'ISO-8859-1')\n",
        "from google.colab import drive\n",
        "drive.mount('/content/drive')"
      ],
      "execution_count": 6,
      "outputs": [
        {
          "output_type": "stream",
          "text": [
            "Go to this URL in a browser: https://accounts.google.com/o/oauth2/auth?client_id=947318989803-6bn6qk8qdgf4n4g3pfee6491hc0brc4i.apps.googleusercontent.com&redirect_uri=urn%3Aietf%3Awg%3Aoauth%3A2.0%3Aoob&scope=email%20https%3A%2F%2Fwww.googleapis.com%2Fauth%2Fdocs.test%20https%3A%2F%2Fwww.googleapis.com%2Fauth%2Fdrive%20https%3A%2F%2Fwww.googleapis.com%2Fauth%2Fdrive.photos.readonly%20https%3A%2F%2Fwww.googleapis.com%2Fauth%2Fpeopleapi.readonly&response_type=code\n",
            "\n",
            "Enter your authorization code:\n",
            "··········\n",
            "Mounted at /content/drive\n"
          ],
          "name": "stdout"
        }
      ]
    },
    {
      "cell_type": "code",
      "metadata": {
        "id": "t-8U9w_3fV0Z",
        "colab_type": "code",
        "colab": {}
      },
      "source": [
        ""
      ],
      "execution_count": 0,
      "outputs": []
    },
    {
      "cell_type": "code",
      "metadata": {
        "id": "9VY-M3D0fV0b",
        "colab_type": "code",
        "outputId": "1b2d0496-a9c3-4be7-dbae-2ca339a26666",
        "colab": {
          "base_uri": "https://localhost:8080/",
          "height": 969
        }
      },
      "source": [
        "path = ''\n",
        "data_file = '/content/drive/My Drive/Colab Notebooks/PTSD_data_annotated.csv'\n",
        "\n",
        "data_df = pd.read_csv(data_file, encoding = 'ISO-8859-1')\n",
        "#This code assumes the data file has a header at the top, and the rows are all annotated. \n",
        "# I removed the blank labeled rows from the bottom.\n",
        "\n",
        "\n",
        "data_df = data_df.iloc[:517]\n",
        "print(data_df.count())\n",
        "# filter on CLIENT character\n",
        "data_df = data_df[data_df['character'] == 'CLIENT']\n",
        "\n",
        "print(data_df.isnull().sum().sum())\n",
        "data_df = data_df.fillna(0)\n",
        "data_df = data_df.replace('NaN', 0)\n",
        "\n",
        "print(data_df.isnull().sum().sum()) \n",
        "\n",
        "\n",
        "    \n",
        "# comment out the actual text before pushing to github\n",
        "print(data_df.transcript_id.value_counts())\n",
        "print(data_df.head(3))\n",
        "print(data_df.columns)\n",
        "print(data_df.describe())\n",
        "\n"
      ],
      "execution_count": 8,
      "outputs": [
        {
          "output_type": "stream",
          "text": [
            "transcript_id                       517\n",
            "character                           517\n",
            "text                                517\n",
            "Keywords / Significant sentences     34\n",
            "A1                                  517\n",
            "B1                                  517\n",
            "B2                                  517\n",
            "B3                                  517\n",
            "B4                                  517\n",
            "B5                                  517\n",
            "C1                                  517\n",
            "C2                                  517\n",
            "D1                                  517\n",
            "D2                                  517\n",
            "D3                                  517\n",
            "D4                                  517\n",
            "D5                                  517\n",
            "D6                                  517\n",
            "D7                                  517\n",
            "E1                                  517\n",
            "E2                                  517\n",
            "E3                                  517\n",
            "E4                                  517\n",
            "E5                                  517\n",
            "E6                                  517\n",
            "F1                                  517\n",
            "G1                                  517\n",
            "dtype: int64\n",
            "241\n",
            "0\n",
            "PTSD_file_1    113\n",
            "PTSD_file_3     96\n",
            "PTSD_file_2     55\n",
            "Name: transcript_id, dtype: int64\n",
            "  transcript_id character  ...   F1   G1\n",
            "0   PTSD_file_1    CLIENT  ...  0.0  0.0\n",
            "2   PTSD_file_1    CLIENT  ...  0.0  0.0\n",
            "4   PTSD_file_1    CLIENT  ...  0.0  0.0\n",
            "\n",
            "[3 rows x 27 columns]\n",
            "Index(['transcript_id', 'character', 'text',\n",
            "       'Keywords / Significant sentences', 'A1', 'B1', 'B2', 'B3', 'B4', 'B5',\n",
            "       'C1', 'C2', 'D1', 'D2', 'D3', 'D4', 'D5', 'D6', 'D7', 'E1', 'E2', 'E3',\n",
            "       'E4', 'E5', 'E6', 'F1', 'G1'],\n",
            "      dtype='object')\n",
            "               A1     B1     B2     B3  ...     E5     E6     F1          G1\n",
            "count  264.000000  264.0  264.0  264.0  ...  264.0  264.0  264.0  264.000000\n",
            "mean     0.011364    0.0    0.0    0.0  ...    0.0    0.0    0.0    0.003788\n",
            "std      0.106194    0.0    0.0    0.0  ...    0.0    0.0    0.0    0.043437\n",
            "min      0.000000    0.0    0.0    0.0  ...    0.0    0.0    0.0    0.000000\n",
            "25%      0.000000    0.0    0.0    0.0  ...    0.0    0.0    0.0    0.000000\n",
            "50%      0.000000    0.0    0.0    0.0  ...    0.0    0.0    0.0    0.000000\n",
            "75%      0.000000    0.0    0.0    0.0  ...    0.0    0.0    0.0    0.000000\n",
            "max      1.000000    0.0    0.0    0.0  ...    0.0    0.0    0.0    0.500000\n",
            "\n",
            "[8 rows x 23 columns]\n"
          ],
          "name": "stdout"
        }
      ]
    },
    {
      "cell_type": "code",
      "metadata": {
        "id": "MAhbCIr4auyp",
        "colab_type": "code",
        "outputId": "e2bde068-c985-413e-df3e-1b47d183a2f8",
        "colab": {
          "base_uri": "https://localhost:8080/",
          "height": 142
        }
      },
      "source": [
        "dataframe_targets = data_df.groupby(\"transcript_id\").sum()[[\"A1\",\"B1\",\"B2\",\"B3\",\"B4\",\"B5\",\"C1\",\"C2\",\"D1\",\"D2\",\"D3\",\"D4\",\"D5\",\"D6\",\"D7\",\"E1\",\"E2\",\"E3\",\"E4\",\"E5\",\"E6\",\"F1\",\"G1\"]]\n",
        "data_frame_text_fields =  data_df.groupby(\"transcript_id\")[\"text\"].agg(lambda col: ''.join(col))\n",
        "\n",
        "data_frame_text_fields = data_frame_text_fields.to_frame()\n",
        "data_frame_text_fields.reset_index(level=0, inplace=True)\n",
        "dataframe_targets.reset_index(level=0, inplace=True)\n",
        "\n",
        "# any class with a value of 1 or more, will count as labeled\n",
        "dataframe_targets.iloc[:,1:] = np.where(dataframe_targets.iloc[:,1:]>=1.0, 1, 0)\n",
        "\n",
        "dataframe_targets.head()\n"
      ],
      "execution_count": 9,
      "outputs": [
        {
          "output_type": "execute_result",
          "data": {
            "text/html": [
              "<div>\n",
              "<style scoped>\n",
              "    .dataframe tbody tr th:only-of-type {\n",
              "        vertical-align: middle;\n",
              "    }\n",
              "\n",
              "    .dataframe tbody tr th {\n",
              "        vertical-align: top;\n",
              "    }\n",
              "\n",
              "    .dataframe thead th {\n",
              "        text-align: right;\n",
              "    }\n",
              "</style>\n",
              "<table border=\"1\" class=\"dataframe\">\n",
              "  <thead>\n",
              "    <tr style=\"text-align: right;\">\n",
              "      <th></th>\n",
              "      <th>transcript_id</th>\n",
              "      <th>A1</th>\n",
              "      <th>B1</th>\n",
              "      <th>B2</th>\n",
              "      <th>B3</th>\n",
              "      <th>B4</th>\n",
              "      <th>B5</th>\n",
              "      <th>C1</th>\n",
              "      <th>C2</th>\n",
              "      <th>D1</th>\n",
              "      <th>D2</th>\n",
              "      <th>D3</th>\n",
              "      <th>D4</th>\n",
              "      <th>D5</th>\n",
              "      <th>D6</th>\n",
              "      <th>D7</th>\n",
              "      <th>E1</th>\n",
              "      <th>E2</th>\n",
              "      <th>E3</th>\n",
              "      <th>E4</th>\n",
              "      <th>E5</th>\n",
              "      <th>E6</th>\n",
              "      <th>F1</th>\n",
              "      <th>G1</th>\n",
              "    </tr>\n",
              "  </thead>\n",
              "  <tbody>\n",
              "    <tr>\n",
              "      <th>0</th>\n",
              "      <td>PTSD_file_1</td>\n",
              "      <td>1</td>\n",
              "      <td>0</td>\n",
              "      <td>0</td>\n",
              "      <td>0</td>\n",
              "      <td>0</td>\n",
              "      <td>0</td>\n",
              "      <td>1</td>\n",
              "      <td>1</td>\n",
              "      <td>0</td>\n",
              "      <td>0</td>\n",
              "      <td>0</td>\n",
              "      <td>1</td>\n",
              "      <td>1</td>\n",
              "      <td>0</td>\n",
              "      <td>0</td>\n",
              "      <td>0</td>\n",
              "      <td>0</td>\n",
              "      <td>0</td>\n",
              "      <td>0</td>\n",
              "      <td>0</td>\n",
              "      <td>0</td>\n",
              "      <td>0</td>\n",
              "      <td>0</td>\n",
              "    </tr>\n",
              "    <tr>\n",
              "      <th>1</th>\n",
              "      <td>PTSD_file_2</td>\n",
              "      <td>1</td>\n",
              "      <td>0</td>\n",
              "      <td>0</td>\n",
              "      <td>0</td>\n",
              "      <td>1</td>\n",
              "      <td>1</td>\n",
              "      <td>1</td>\n",
              "      <td>1</td>\n",
              "      <td>0</td>\n",
              "      <td>1</td>\n",
              "      <td>1</td>\n",
              "      <td>1</td>\n",
              "      <td>0</td>\n",
              "      <td>0</td>\n",
              "      <td>0</td>\n",
              "      <td>1</td>\n",
              "      <td>0</td>\n",
              "      <td>1</td>\n",
              "      <td>0</td>\n",
              "      <td>0</td>\n",
              "      <td>0</td>\n",
              "      <td>0</td>\n",
              "      <td>0</td>\n",
              "    </tr>\n",
              "    <tr>\n",
              "      <th>2</th>\n",
              "      <td>PTSD_file_3</td>\n",
              "      <td>0</td>\n",
              "      <td>0</td>\n",
              "      <td>0</td>\n",
              "      <td>0</td>\n",
              "      <td>0</td>\n",
              "      <td>0</td>\n",
              "      <td>0</td>\n",
              "      <td>0</td>\n",
              "      <td>0</td>\n",
              "      <td>0</td>\n",
              "      <td>0</td>\n",
              "      <td>0</td>\n",
              "      <td>0</td>\n",
              "      <td>0</td>\n",
              "      <td>0</td>\n",
              "      <td>0</td>\n",
              "      <td>0</td>\n",
              "      <td>0</td>\n",
              "      <td>0</td>\n",
              "      <td>0</td>\n",
              "      <td>0</td>\n",
              "      <td>0</td>\n",
              "      <td>0</td>\n",
              "    </tr>\n",
              "  </tbody>\n",
              "</table>\n",
              "</div>"
            ],
            "text/plain": [
              "  transcript_id  A1  B1  B2  B3  B4  B5  C1  ...  E1  E2  E3  E4  E5  E6  F1  G1\n",
              "0   PTSD_file_1   1   0   0   0   0   0   1  ...   0   0   0   0   0   0   0   0\n",
              "1   PTSD_file_2   1   0   0   0   1   1   1  ...   1   0   1   0   0   0   0   0\n",
              "2   PTSD_file_3   0   0   0   0   0   0   0  ...   0   0   0   0   0   0   0   0\n",
              "\n",
              "[3 rows x 24 columns]"
            ]
          },
          "metadata": {
            "tags": []
          },
          "execution_count": 9
        }
      ]
    },
    {
      "cell_type": "code",
      "metadata": {
        "id": "Hx--pj_XbJ8K",
        "colab_type": "code",
        "colab": {}
      },
      "source": [
        "data_frame_merged = pd.merge(dataframe_targets, data_frame_text_fields, on=\"transcript_id\")\n",
        "\n",
        "# data_frame_merged.head(10)"
      ],
      "execution_count": 0,
      "outputs": []
    },
    {
      "cell_type": "code",
      "metadata": {
        "id": "IZv7X0NYfV0f",
        "colab_type": "code",
        "outputId": "e7db1758-5286-4884-e947-198b50d7944e",
        "colab": {
          "base_uri": "https://localhost:8080/",
          "height": 578
        }
      },
      "source": [
        "import seaborn as sns\n",
        "import matplotlib as plt\n",
        "\n",
        "categories = list(data_frame_merged.columns.values)\n",
        "print(categories[1:-1])\n",
        "sns.set(font_scale = 2)\n",
        "sns.set(rc={'figure.figsize':(11.7,8.27)})\n",
        "\n",
        "sns.barplot(categories[1:-1], data_frame_merged.iloc[:,1:-1].sum().values).set_title('Count in each class', fontsize=20)\n",
        "# plt.title(\"Comments in each category\", fontsize=24)\n",
        "# plt.ylabel('Number of comments', fontsize=18)\n",
        "# plt.xlabel('Comment Type ', fontsize=18)\n",
        "#adding the text labels\n",
        "#rects = ax.patches\n",
        "labels = data_frame_merged.iloc[:,1:-1].sum().values\n",
        "# for rect, label in zip(rects, labels):\n",
        "#     height = rect.get_height()\n",
        "#     ax.text(rect.get_x() + rect.get_width()/2, height + 5, label, ha='center', va='bottom', fontsize=18)\n"
      ],
      "execution_count": 11,
      "outputs": [
        {
          "output_type": "stream",
          "text": [
            "['A1', 'B1', 'B2', 'B3', 'B4', 'B5', 'C1', 'C2', 'D1', 'D2', 'D3', 'D4', 'D5', 'D6', 'D7', 'E1', 'E2', 'E3', 'E4', 'E5', 'E6', 'F1', 'G1']\n"
          ],
          "name": "stdout"
        },
        {
          "output_type": "display_data",
          "data": {
            "image/png": "[encoded data removed]",
            "text/plain": [
              "<Figure size 842.4x595.44 with 1 Axes>"
            ]
          },
          "metadata": {
            "tags": []
          }
        }
      ]
    },
    {
      "cell_type": "code",
      "metadata": {
        "id": "DxbK0RSVfV0i",
        "colab_type": "code",
        "outputId": "876b5632-6e51-43ab-9e74-2639655301aa",
        "colab": {
          "base_uri": "https://localhost:8080/",
          "height": 534
        }
      },
      "source": [
        "\n",
        "rowSums = data_frame_merged.iloc[:,1:-1].sum(axis=1)\n",
        "print(rowSums)\n",
        "multiLabel_counts = rowSums.value_counts()\n",
        "print(multiLabel_counts)\n",
        "multiLabel_counts = multiLabel_counts.iloc[1:]\n",
        "sns.set(font_scale = 2)\n",
        "sns.set(rc={'figure.figsize':(8,6)})\n",
        "sns.barplot(multiLabel_counts.index, multiLabel_counts.values).set_title('Count of text that has multiple labels', fontsize=20)\n",
        "# plt.title(\"Comments having multiple labels \")\n",
        "# plt.ylabel('Number of comments', fontsize=18)\n",
        "# plt.xlabel('Number of labels', fontsize=18)\n",
        "#adding the text labels\n",
        "ax = sns.barplot(multiLabel_counts.index, multiLabel_counts.values)\n",
        "rects = ax.patches\n",
        "labels = multiLabel_counts.values\n",
        "# print(rowSums.value_counts())\n",
        "# print(labels)\n",
        "# for rect, label in zip(rects, labels):\n",
        "#     height = rect.get_height()\n",
        "#     ax.text(rect.get_x() + rect.get_width()/2, height + 5, label, ha='center', va='bottom')\n"
      ],
      "execution_count": 12,
      "outputs": [
        {
          "output_type": "stream",
          "text": [
            "0     5\n",
            "1    10\n",
            "2     0\n",
            "dtype: int64\n",
            "10    1\n",
            "5     1\n",
            "0     1\n",
            "dtype: int64\n"
          ],
          "name": "stdout"
        },
        {
          "output_type": "display_data",
          "data": {
            "image/png": "[encoded data removed]",
            "text/plain": [
              "<Figure size 576x432 with 1 Axes>"
            ]
          },
          "metadata": {
            "tags": []
          }
        }
      ]
    },
    {
      "cell_type": "code",
      "metadata": {
        "id": "FwbGRrFUfV0l",
        "colab_type": "code",
        "outputId": "dcd5506e-59a4-4138-aaba-88aecd076cff",
        "colab": {
          "base_uri": "https://localhost:8080/",
          "height": 119
        }
      },
      "source": [
        "# continue with guidance from: https://towardsdatascience.com/journey-to-the-center-of-multi-label-classification-384c40229bff\n",
        "\n",
        "import re\n",
        "nltk.download('stopwords')\n",
        "nltk.download('punkt')\n",
        "nltk.download('wordnet')\n",
        "from nltk.corpus import stopwords\n",
        "from nltk.stem import SnowballStemmer\n",
        "#is based on The Porter Stemming Algorithm\n",
        "wnl = nltk.stem.WordNetLemmatizer()\n",
        "stopword = stopwords.words('english')\n",
        "snowball_stemmer = SnowballStemmer('english')\n",
        "\n",
        "def clean(sentence): #function to tokenize, lemmatize, remove non-alpha characters, numbers in time stamps (00), stem, remove stop words\n",
        "# trying a Bag of words feature vector\n",
        "    sentence = re.sub('[^A-Za-z!0-9]+', ' ', sentence)\n",
        "    sentence = re.sub(r'\\d{2}','',sentence) \n",
        "    sentence = sentence.strip()\n",
        "    sentence = [wnl.lemmatize(i) for i in word_tokenize(sentence)]\n",
        "    sentence = [snowball_stemmer.stem(word) for word in sentence]\n",
        "    sentence = [word for word in sentence if word not in stopword]\n",
        "#other potential tasks:\n",
        "# 1) convert contractions\n",
        "# 2) mispellings\n",
        "    return sentence\n",
        "\n",
        "    \n",
        "    \n",
        "    "
      ],
      "execution_count": 13,
      "outputs": [
        {
          "output_type": "stream",
          "text": [
            "[nltk_data] Downloading package stopwords to /root/nltk_data...\n",
            "[nltk_data]   Unzipping corpora/stopwords.zip.\n",
            "[nltk_data] Downloading package punkt to /root/nltk_data...\n",
            "[nltk_data]   Package punkt is already up-to-date!\n",
            "[nltk_data] Downloading package wordnet to /root/nltk_data...\n",
            "[nltk_data]   Package wordnet is already up-to-date!\n"
          ],
          "name": "stdout"
        }
      ]
    },
    {
      "cell_type": "code",
      "metadata": {
        "id": "w5hQRxXRfV0n",
        "colab_type": "code",
        "colab": {}
      },
      "source": [
        "\n",
        "\n",
        "# changing to use the pandas df\n",
        "def load_df(df): #loads the text, cleans it, stores it into a list of lists, and calculates word frequency\n",
        "\n",
        "    for transcript in df.text.iteritems():\n",
        "        tokens = clean(transcript[1])\n",
        "        for word in tokens:\n",
        "            if word in word_count:\n",
        "                word_count[word] += 1\n",
        "            else:\n",
        "                word_count[word] = 1\n",
        "        text_list.append(tokens)\n",
        " "
      ],
      "execution_count": 0,
      "outputs": []
    },
    {
      "cell_type": "code",
      "metadata": {
        "id": "LN6k_E6VfV0p",
        "colab_type": "code",
        "outputId": "584ccce1-fc9c-4690-b3b7-7c856aa5f035",
        "colab": {
          "base_uri": "https://localhost:8080/",
          "height": 51
        }
      },
      "source": [
        "print(data_frame_merged.isnull().sum().sum()) \n",
        "print(len(data_frame_merged))"
      ],
      "execution_count": 15,
      "outputs": [
        {
          "output_type": "stream",
          "text": [
            "0\n",
            "3\n"
          ],
          "name": "stdout"
        }
      ]
    },
    {
      "cell_type": "code",
      "metadata": {
        "id": "cYoz0-g6fV0r",
        "colab_type": "code",
        "outputId": "5e1af564-73c7-41e8-8e38-f90aedb84b88",
        "colab": {
          "base_uri": "https://localhost:8080/",
          "height": 884
        }
      },
      "source": [
        "word_count = {}    \n",
        "text_list = []\n",
        "load_df(data_frame_merged)     \n",
        "print(len(word_count))\n",
        "print(len(text_list))\n",
        "# for w in sorted(word_count, key=word_count.get, reverse=True):\n",
        "#     print (w, word_count[w])\n",
        "\n",
        "# concat the text list to the the categories, or to the dataframe\n",
        "\n",
        "text_list_series = pd.Series(text_list)\n",
        "\n",
        "#reset the index of both before the concat to ensure they line up\n",
        "text_list_series.reset_index(drop=True, inplace=True)\n",
        "data_frame_merged.reset_index(drop=True, inplace=True)\n",
        "\n",
        "df_w_tokens = pd.concat([data_frame_merged, text_list_series],axis=1)\n",
        "print(df_w_tokens.isnull().sum().sum()) \n",
        "print(df_w_tokens.head(3))\n",
        "print(df_w_tokens.count())\n",
        "print(df_w_tokens.columns)\n",
        "# I am renaming all columns, but really just needed to name the column for the concatted series\n",
        "\n",
        "df_w_tokens.columns = ['transcript_id','A1', 'B1', 'B2', 'B3', 'B4', 'B5', 'C1', 'C2', 'D1', 'D2', 'D3', 'D4', \n",
        "                       'D5', 'D6', 'D7', 'E1', 'E2', 'E3', 'E4', 'E5', 'E6', 'F1', 'G1','text','tokens']\n",
        "\n",
        "\n",
        " \n",
        "# df_w_tokens.columns = ['transcript_id','character','text', 'Keywords / Significant sentences', 'A1', 'B1', 'B2', 'B3', 'B4', 'B5', 'C1', 'C2',\n",
        "# 'D1',                               'D2',\n",
        "#                                      'D3',                               'D4',\n",
        "#                                      'D5',                               'D6',\n",
        "#                                      'D7',                               'E1',\n",
        "#                                      'E2',                               'E3',\n",
        "#                                      'E4',                               'E5',\n",
        "#                                      'E6',                               'F1',\n",
        "#                                      'G1',                                  'tokens']\n",
        "\n",
        "\n",
        "\n",
        "print(df_w_tokens.isnull().sum().sum())\n",
        "# df_w_tokens = data_frame_merged.replace('NaN', '')\n",
        "# df_w_tokens = data_frame_merged.fillna(0)\n",
        "# print(df_w_tokens.isnull().sum().sum())\n",
        "# print(list(df_w_tokens.columns))\n",
        "print(df_w_tokens.head(3))\n"
      ],
      "execution_count": 16,
      "outputs": [
        {
          "output_type": "stream",
          "text": [
            "1060\n",
            "3\n",
            "0\n",
            "  transcript_id  ...                                                  0\n",
            "0   PTSD_file_1  ...  [remind, never, go, work, meet, bunch, woman, ...\n",
            "1   PTSD_file_2  ...  [okay, schedul, appoint, dr, vaughn, monday, a...\n",
            "2   PTSD_file_3  ...  [oh, thank, aw, fuck, sorri, right, come, back...\n",
            "\n",
            "[3 rows x 26 columns]\n",
            "transcript_id    3\n",
            "A1               3\n",
            "B1               3\n",
            "B2               3\n",
            "B3               3\n",
            "B4               3\n",
            "B5               3\n",
            "C1               3\n",
            "C2               3\n",
            "D1               3\n",
            "D2               3\n",
            "D3               3\n",
            "D4               3\n",
            "D5               3\n",
            "D6               3\n",
            "D7               3\n",
            "E1               3\n",
            "E2               3\n",
            "E3               3\n",
            "E4               3\n",
            "E5               3\n",
            "E6               3\n",
            "F1               3\n",
            "G1               3\n",
            "text             3\n",
            "0                3\n",
            "dtype: int64\n",
            "Index(['transcript_id',            'A1',            'B1',            'B2',\n",
            "                  'B3',            'B4',            'B5',            'C1',\n",
            "                  'C2',            'D1',            'D2',            'D3',\n",
            "                  'D4',            'D5',            'D6',            'D7',\n",
            "                  'E1',            'E2',            'E3',            'E4',\n",
            "                  'E5',            'E6',            'F1',            'G1',\n",
            "                'text',               0],\n",
            "      dtype='object')\n",
            "0\n",
            "  transcript_id  ...                                             tokens\n",
            "0   PTSD_file_1  ...  [remind, never, go, work, meet, bunch, woman, ...\n",
            "1   PTSD_file_2  ...  [okay, schedul, appoint, dr, vaughn, monday, a...\n",
            "2   PTSD_file_3  ...  [oh, thank, aw, fuck, sorri, right, come, back...\n",
            "\n",
            "[3 rows x 26 columns]\n"
          ],
          "name": "stdout"
        }
      ]
    },
    {
      "cell_type": "code",
      "metadata": {
        "id": "7xU9ppNDfV0t",
        "colab_type": "code",
        "outputId": "1ff94e97-67e2-4334-e136-49d8b481d11a",
        "colab": {
          "base_uri": "https://localhost:8080/",
          "height": 74
        }
      },
      "source": [
        "# Bag of Words \n",
        "\n",
        "from sklearn.model_selection import train_test_split\n",
        "train, test = train_test_split(df_w_tokens, random_state=42, test_size=0.30, shuffle=True)\n",
        "\n",
        "# consider a stratified test/train split, and/or temporal\n",
        "\n",
        "def dummy_fun(doc):\n",
        "    return doc\n",
        "\n",
        "from sklearn.feature_extraction.text import TfidfVectorizer\n",
        "vectorizer = TfidfVectorizer(\n",
        "    analyzer='word', \n",
        "    ngram_range=(1,3), \n",
        "    norm='l2',     \n",
        "    tokenizer=dummy_fun,\n",
        "    preprocessor=dummy_fun,\n",
        "    token_pattern=None)\n",
        "\n",
        "vectorizer.fit(train['tokens'])\n",
        "vectorizer.fit(test['tokens'])\n",
        "\n",
        "x_train = vectorizer.transform(train['tokens'])\n",
        "\n",
        "x_test = vectorizer.transform(test['tokens'])\n",
        "\n",
        "print(categories[1:-1])"
      ],
      "execution_count": 17,
      "outputs": [
        {
          "output_type": "stream",
          "text": [
            "['A1', 'B1', 'B2', 'B3', 'B4', 'B5', 'C1', 'C2', 'D1', 'D2', 'D3', 'D4', 'D5', 'D6', 'D7', 'E1', 'E2', 'E3', 'E4', 'E5', 'E6', 'F1', 'G1']\n"
          ],
          "name": "stdout"
        }
      ]
    },
    {
      "cell_type": "code",
      "metadata": {
        "id": "0eHWA8kMfV0v",
        "colab_type": "code",
        "outputId": "f9fc1e7a-cdd0-4bba-d0b2-a04b14275828",
        "colab": {
          "base_uri": "https://localhost:8080/",
          "height": 1000
        }
      },
      "source": [
        "from sklearn.linear_model import LogisticRegression\n",
        "from sklearn.pipeline import Pipeline\n",
        "from sklearn.metrics import accuracy_score\n",
        "from sklearn.multiclass import OneVsRestClassifier\n",
        "# Using pipeline for applying logistic regression and one vs rest classifier\n",
        "LogReg_pipeline = Pipeline([\n",
        "                ('clf', OneVsRestClassifier(LogisticRegression(solver='sag'), n_jobs=-1)),\n",
        "            ])\n",
        "print(categories)\n",
        "for category in categories[1:-1]:\n",
        "    print('**Processing {} text...**'.format(category))\n",
        "\n",
        "    # Training logistic regression model on train data\n",
        "    LogReg_pipeline.fit(x_train, train[category])\n",
        "    \n",
        "    # calculating test accuracy\n",
        "    prediction = LogReg_pipeline.predict(x_test)\n",
        "    print('Test accuracy is {}'.format(accuracy_score(test[category], prediction)))\n",
        "    print(\"\\n\")"
      ],
      "execution_count": 18,
      "outputs": [
        {
          "output_type": "stream",
          "text": [
            "['transcript_id', 'A1', 'B1', 'B2', 'B3', 'B4', 'B5', 'C1', 'C2', 'D1', 'D2', 'D3', 'D4', 'D5', 'D6', 'D7', 'E1', 'E2', 'E3', 'E4', 'E5', 'E6', 'F1', 'G1', 'text']\n",
            "**Processing A1 text...**\n",
            "Test accuracy is 0.0\n",
            "\n",
            "\n",
            "**Processing B1 text...**\n",
            "Test accuracy is 1.0\n",
            "\n",
            "\n",
            "**Processing B2 text...**\n",
            "Test accuracy is 1.0\n",
            "\n",
            "\n",
            "**Processing B3 text...**\n",
            "Test accuracy is 1.0\n",
            "\n",
            "\n",
            "**Processing B4 text...**\n",
            "Test accuracy is 1.0\n",
            "\n",
            "\n",
            "**Processing B5 text...**\n",
            "Test accuracy is 1.0\n",
            "\n",
            "\n",
            "**Processing C1 text...**\n",
            "Test accuracy is 0.0\n",
            "\n",
            "\n",
            "**Processing C2 text...**\n",
            "Test accuracy is 0.0\n",
            "\n",
            "\n",
            "**Processing D1 text...**\n",
            "Test accuracy is 1.0\n",
            "\n",
            "\n",
            "**Processing D2 text...**\n",
            "Test accuracy is 1.0\n",
            "\n",
            "\n",
            "**Processing D3 text...**\n",
            "Test accuracy is 1.0\n",
            "\n",
            "\n",
            "**Processing D4 text...**\n",
            "Test accuracy is 0.0\n",
            "\n",
            "\n",
            "**Processing D5 text...**\n",
            "Test accuracy is 0.0\n",
            "\n",
            "\n",
            "**Processing D6 text...**\n",
            "Test accuracy is 1.0\n",
            "\n",
            "\n",
            "**Processing D7 text...**\n",
            "Test accuracy is 1.0\n",
            "\n",
            "\n",
            "**Processing E1 text...**\n",
            "Test accuracy is 1.0\n",
            "\n",
            "\n",
            "**Processing E2 text...**\n",
            "Test accuracy is 1.0\n",
            "\n",
            "\n",
            "**Processing E3 text...**\n",
            "Test accuracy is 1.0\n",
            "\n",
            "\n",
            "**Processing E4 text...**\n",
            "Test accuracy is 1.0\n",
            "\n",
            "\n",
            "**Processing E5 text...**\n",
            "Test accuracy is 1.0\n",
            "\n",
            "\n",
            "**Processing E6 text...**\n",
            "Test accuracy is 1.0\n",
            "\n",
            "\n",
            "**Processing F1 text...**\n",
            "Test accuracy is 1.0\n",
            "\n",
            "\n",
            "**Processing G1 text...**\n",
            "Test accuracy is 1.0\n",
            "\n",
            "\n"
          ],
          "name": "stdout"
        }
      ]
    },
    {
      "cell_type": "code",
      "metadata": {
        "id": "qmwBSqcpfV0x",
        "colab_type": "code",
        "colab": {}
      },
      "source": [
        ""
      ],
      "execution_count": 0,
      "outputs": []
    },
    {
      "cell_type": "code",
      "metadata": {
        "id": "7tYubplifV0y",
        "colab_type": "code",
        "colab": {}
      },
      "source": [
        ""
      ],
      "execution_count": 0,
      "outputs": []
    },
    {
      "cell_type": "code",
      "metadata": {
        "id": "42B5S0ftfV0z",
        "colab_type": "code",
        "colab": {}
      },
      "source": [
        ""
      ],
      "execution_count": 0,
      "outputs": []
    },
    {
      "cell_type": "code",
      "metadata": {
        "id": "5CgAbSbofV00",
        "colab_type": "code",
        "colab": {}
      },
      "source": [
        ""
      ],
      "execution_count": 0,
      "outputs": []
    },
    {
      "cell_type": "code",
      "metadata": {
        "id": "n541cmUUfV01",
        "colab_type": "code",
        "colab": {}
      },
      "source": [
        ""
      ],
      "execution_count": 0,
      "outputs": []
    }
  ]
}