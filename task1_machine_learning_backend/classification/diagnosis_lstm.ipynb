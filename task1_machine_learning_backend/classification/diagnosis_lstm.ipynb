{
 "cells": [
  {
   "cell_type": "code",
   "execution_count": 41,
   "metadata": {},
   "outputs": [
    {
     "name": "stdout",
     "output_type": "stream",
     "text": [
      "The autoreload extension is already loaded. To reload it, use:\n",
      "  %reload_ext autoreload\n"
     ]
    }
   ],
   "source": [
    "# from __future__ import unicode_literals\n",
    "import numpy as np\n",
    "import glob\n",
    "from nltk.tokenize import sent_tokenize, word_tokenize\n",
    "\n",
    "%load_ext autoreload\n",
    "%autoreload 2"
   ]
  },
  {
   "cell_type": "code",
   "execution_count": 42,
   "metadata": {},
   "outputs": [
    {
     "name": "stdout",
     "output_type": "stream",
     "text": [
      "2745\n",
      "3293\n",
      "2787\n",
      "Total Clients processed:  3\n"
     ]
    }
   ],
   "source": [
    "path = '/Users/shikha/Documents/projects/omdena/dataset/example/*'\n",
    "files = glob.glob(path)\n",
    "data = {}\n",
    "# label 0 means no ptsd\n",
    "data[0] = []\n",
    "# label 1 means ptsd\n",
    "data[1] = []\n",
    "count = 0\n",
    "separator = \"\"\n",
    "for name in files: # 'file' is a builtin type, 'name' is a less-ambiguous variable name.\n",
    "    try:\n",
    "        with open(name) as f:\n",
    "            content = f.readlines()\n",
    "            print len(content)\n",
    "            # limiting the conversation for now\n",
    "            content = separator.join(content[:100])\n",
    "            count += 1\n",
    "            if count % 2 == 0:\n",
    "                data[0].append(content)\n",
    "            else:\n",
    "                data[1].append(content)\n",
    "    except IOError as exc:\n",
    "        print \"IO Error\"\n",
    "\n",
    "print \"Total Clients processed: \", count"
   ]
  },
  {
   "cell_type": "code",
   "execution_count": 43,
   "metadata": {},
   "outputs": [],
   "source": [
    "def load_glove_model(gloveFile):\n",
    "    print \"\\nLoading Glove Model...\"\n",
    "    f = open(gloveFile,'r')\n",
    "    wordList = []\n",
    "    wordVectors = []\n",
    "    for line in f:\n",
    "        splitLine = line.split()\n",
    "        word = splitLine[0]\n",
    "        embedding = np.array([float(val) for val in splitLine[1:]])\n",
    "        wordList.append(word)\n",
    "        wordVectors.append(embedding)\n",
    "    wordVectors = np.array(wordVectors)\n",
    "    print \"Done. \",len(wordList),\" words loaded!\"\n",
    "    print wordVectors[wordList.index('woman')]\n",
    "\n",
    "    return wordList, wordVectors\n",
    "\n",
    "def load_dataset(filename=\"\"):\n",
    "    X = []\n",
    "    Y = []\n",
    "    for label, transcripts in data.items():\n",
    "        X += [val for val in transcripts]\n",
    "        Y += [label] * len(transcripts)\n",
    "    X = np.array(X)\n",
    "    Y = np.array(Y)\n",
    "    \n",
    "    return X, Y"
   ]
  },
  {
   "cell_type": "code",
   "execution_count": 44,
   "metadata": {},
   "outputs": [
    {
     "name": "stdout",
     "output_type": "stream",
     "text": [
      "\n",
      "Loading Glove Model...\n",
      "Done.  400000  words loaded!\n",
      "[ 0.59368   0.44825   0.5932    0.074134  0.11141   1.2793    0.16656\n",
      "  0.2407    0.39045   0.32766  -0.75034   0.35007   0.76057   0.38067\n",
      "  0.17517   0.031791  0.46849  -0.21653  -0.46282   0.39967   0.16623\n",
      " -0.011477  0.044059  0.30325   0.6153    0.47047  -0.44036  -1.5963\n",
      "  0.18433   0.23193   0.20452   0.51617   0.65734  -0.3452    0.23446\n",
      " -0.62004  -0.68741   0.28575   1.0605    0.46916  -0.85149   0.10154\n",
      "  0.21426  -0.20587   0.23636   0.21321  -0.21287   0.12107   0.18766\n",
      " -0.23282  -0.25499  -0.39631   0.84379   1.6801   -0.40941  -1.9976\n",
      " -0.69868   0.21732   1.2197    0.55126   0.44095   0.72588  -0.092053\n",
      " -0.022406  0.72039   0.1076    0.84116   0.30312  -0.42544   0.056362\n",
      "  0.13109  -0.071181 -0.10579   0.56677   0.54547   0.84113   0.14861\n",
      " -0.62628  -0.68391  -1.0831   -0.088385  0.32167   0.47794   0.091868\n",
      " -1.2559   -1.2268    0.085401  0.36833   0.081566 -0.76611   0.87751\n",
      " -0.22008   0.82401  -0.092207 -0.45941   0.46571  -0.56018  -0.54648\n",
      "  0.15162  -0.30754 ]\n"
     ]
    }
   ],
   "source": [
    "root = \"/Users/shikha/Documents/projects/omdena/\"\n",
    "glove_file = root + \"glove/glove.6B.100d.txt\"\n",
    "\n",
    "# Load glove file\n",
    "wordsList, wordVectors = load_glove_model(glove_file)"
   ]
  },
  {
   "cell_type": "code",
   "execution_count": 45,
   "metadata": {},
   "outputs": [
    {
     "name": "stdout",
     "output_type": "stream",
     "text": [
      "400000\n",
      "(400000, 100)\n"
     ]
    }
   ],
   "source": [
    "print(len(wordsList))\n",
    "print(wordVectors.shape)"
   ]
  },
  {
   "cell_type": "code",
   "execution_count": 46,
   "metadata": {},
   "outputs": [],
   "source": [
    "# filename = dataset + \"/train/abc\"\n",
    "X, Y = load_dataset()"
   ]
  },
  {
   "cell_type": "code",
   "execution_count": 47,
   "metadata": {},
   "outputs": [],
   "source": [
    "def tokenize(doc, decode=True):\n",
    "    if decode:\n",
    "        return word_tokenize(doc.decode('utf-8'))\n",
    "    else:\n",
    "        return word_tokenize(doc)"
   ]
  },
  {
   "cell_type": "code",
   "execution_count": 48,
   "metadata": {},
   "outputs": [
    {
     "name": "stdout",
     "output_type": "stream",
     "text": [
      "Average no of words in a sentence =  3210\n"
     ]
    }
   ],
   "source": [
    "# counting average no words in a sentence\n",
    "count = 0\n",
    "for transcript in X:\n",
    "    words = tokenize(transcript)\n",
    "    count += len(words)\n",
    "avg = count/X.shape[0]\n",
    "print \"Average no of words in a sentence = \", avg"
   ]
  },
  {
   "cell_type": "code",
   "execution_count": 49,
   "metadata": {},
   "outputs": [
    {
     "data": {
      "image/png": "[encoded data removed]",
      "text/plain": [
       "<Figure size 432x288 with 1 Axes>"
      ]
     },
     "metadata": {
      "needs_background": "light"
     },
     "output_type": "display_data"
    },
    {
     "data": {
      "text/plain": [
       "count       3.000000\n",
       "mean     3210.333333\n",
       "std       646.973209\n",
       "min      2501.000000\n",
       "25%      2931.500000\n",
       "50%      3362.000000\n",
       "75%      3565.000000\n",
       "max      3768.000000\n",
       "dtype: float64"
      ]
     },
     "execution_count": 49,
     "metadata": {},
     "output_type": "execute_result"
    }
   ],
   "source": [
    "import pandas as pd\n",
    "import matplotlib.pyplot as plt\n",
    "%matplotlib inline\n",
    "\n",
    "transcripts_len = [len(tokenize(transcript)) for transcript in X]\n",
    "pd.Series(transcripts_len).hist()\n",
    "plt.show()\n",
    "pd.Series(transcripts_len).describe()"
   ]
  },
  {
   "cell_type": "code",
   "execution_count": 50,
   "metadata": {},
   "outputs": [],
   "source": [
    "# usually based on average no of words in the sentence\n",
    "maxSeqLength = 25\n",
    "batch_size = 1"
   ]
  },
  {
   "cell_type": "code",
   "execution_count": 51,
   "metadata": {},
   "outputs": [],
   "source": [
    "wordsList = [word.decode('UTF-8') for word in wordsList] #Encode words as UTF-8"
   ]
  },
  {
   "cell_type": "code",
   "execution_count": 52,
   "metadata": {},
   "outputs": [],
   "source": [
    "# Run only once and save data in npy file\n",
    "# converting words to ids from glove\n",
    "\n",
    "# ids = np.zeros((X.shape[0], maxSeqLength), dtype='int32')\n",
    "# i = 0\n",
    "# for transcript in X:\n",
    "#     words = tokenize(transcript)\n",
    "#     indexCounter = 0\n",
    "#     for word in words:\n",
    "#         try:\n",
    "#             ids[i][indexCounter] = wordsList.index(word)\n",
    "#         except ValueError:\n",
    "#             ids[i][indexCounter] = 399999 #Vector for unknown words\n",
    "#         indexCounter = indexCounter + 1\n",
    "#         if indexCounter >= maxSeqLength:\n",
    "#            break\n",
    "#     i += 1\n",
    "\n",
    "# np.save('trascript_ids', ids)"
   ]
  },
  {
   "cell_type": "code",
   "execution_count": 53,
   "metadata": {},
   "outputs": [],
   "source": [
    "X = np.load('trascript_ids.npy')\n",
    "\n",
    "# train_len = int(0.8 * X.shape[0])\n",
    "# X_train = X[0:train_len]\n",
    "# Y_train = Y[0:train_len]\n",
    "# X_test = X[train_len:]\n",
    "# Y_test = Y[train_len:]\n",
    "train_len = X.shape[0]\n",
    "X_train = X\n",
    "Y_train = Y\n",
    "X_test = X\n",
    "Y_test = Y"
   ]
  },
  {
   "cell_type": "code",
   "execution_count": 54,
   "metadata": {},
   "outputs": [],
   "source": [
    "import torch\n",
    "from torch.utils.data import DataLoader, TensorDataset\n",
    "\n",
    "# create Tensor datasets\n",
    "train_data = TensorDataset(torch.from_numpy(X_train), torch.from_numpy(Y_train))\n",
    "# valid_data = TensorDataset(torch.from_numpy(valid_x), torch.from_numpy(valid_y))\n",
    "test_data = TensorDataset(torch.from_numpy(X_test), torch.from_numpy(Y_test))\n",
    "# dataloaders\n",
    "# make sure to SHUFFLE your data\n",
    "train_loader = DataLoader(train_data, shuffle=True, batch_size=batch_size)\n",
    "# valid_loader = DataLoader(valid_data, shuffle=True, batch_size=batch_size)\n",
    "test_loader = DataLoader(test_data, shuffle=True, batch_size=batch_size)"
   ]
  },
  {
   "cell_type": "code",
   "execution_count": 55,
   "metadata": {},
   "outputs": [
    {
     "name": "stdout",
     "output_type": "stream",
     "text": [
      "('Sample input size: ', torch.Size([1, 25]))\n",
      "('Sample input: \\n', tensor([[399999, 399999, 399999, 399999,     45, 399999, 399999,     45, 399999,\n",
      "             45,     23, 399999,   9085,     24, 399999,      1,    886,      9,\n",
      "            253,      2, 399999,    269,     61,     53,    809]],\n",
      "       dtype=torch.int32))\n",
      "()\n",
      "('Sample label size: ', torch.Size([1]))\n",
      "('Sample label: \\n', tensor([0]))\n"
     ]
    }
   ],
   "source": [
    "# obtain one batch of training data\n",
    "dataiter = iter(train_loader)\n",
    "sample_x, sample_y = dataiter.next()\n",
    "print('Sample input size: ', sample_x.size()) # batch_size, seq_length\n",
    "print('Sample input: \\n', sample_x)\n",
    "print()\n",
    "print('Sample label size: ', sample_y.size()) # batch_size\n",
    "print('Sample label: \\n', sample_y)"
   ]
  },
  {
   "cell_type": "code",
   "execution_count": 93,
   "metadata": {},
   "outputs": [],
   "source": [
    "from torch import nn\n",
    "import torch.nn.functional as F\n",
    "\n",
    "class diagnosis_LSTM(nn.Module):\n",
    "    def __init__(self, embedding_dim, num_layers, num_outputs, vocab_len, hidden_size):\n",
    "        super(diagnosis_LSTM, self).__init__()\n",
    "        self.embedding_dim = embedding_dim\n",
    "        self.hidden_size = hidden_size\n",
    "        self.embeddings = nn.Embedding(vocab_len, embedding_dim)\n",
    "        print 'Embedding layer is ', self.embeddings\n",
    "        print 'Embedding layer weights ', self.embeddings.weight.shape\n",
    "        \n",
    "        self.lstm = nn.LSTM(input_size=embedding_dim, hidden_size=hidden_size, num_layers=num_layers, batch_first=True)\n",
    "        self.fc = nn.Linear(in_features=hidden_size, out_features=num_outputs)\n",
    "#         self.output = nn.LogSoftmax(dim=1)\n",
    "        self.output = nn.Sigmoid()\n",
    "    \n",
    "    def forward(self, input, batch_size):\n",
    "        embeddings_out = self.embeddings(input)\n",
    "        print 'Embedding layer output shape', embeddings_out.shape\n",
    "#         print 'Embedding layer output ', embeddings_out\n",
    "        \n",
    "        # initializing the hidden state to 0\n",
    "        hidden=None\n",
    "        lstm_out, h = self.lstm(embeddings_out, hidden)\n",
    "        lstm_out = lstm_out.contiguous().view(-1, self.hidden_size)\n",
    "        lstm_out = torch.sum(lstm_out, dim=0)\n",
    "        print 'LSTM layer output shape', lstm_out.shape\n",
    "#         print 'LSTM layer output ', lstm_out\n",
    "        \n",
    "        fc_out = self.fc(lstm_out.contiguous().view(-1, self.hidden_size))\n",
    "        print 'FC layer output shape', fc_out.shape\n",
    "#         print 'FC layer output ', fc_out\n",
    "        \n",
    "#         log_probs = F.log_softmax(fc_out)\n",
    "#         print \"log probs shape\", log_probs.shape\n",
    "#         return log_probs\n",
    "        sigm_out = self.output(fc_out)\n",
    "        print 'Sigmoid layer output shape', sigm_out.shape\n",
    "        print 'Sigmoid layer output ', sigm_out\n",
    "        \n",
    "        out = sigm_out.view(batch_size, -1)\n",
    "        print 'Output layer output shape', out.shape\n",
    "        print 'Output layer output ', out\n",
    "        \n",
    "        print 'Final ptsd prediction, ', out[:,-1]\n",
    "        return out"
   ]
  },
  {
   "cell_type": "code",
   "execution_count": 94,
   "metadata": {},
   "outputs": [
    {
     "name": "stdout",
     "output_type": "stream",
     "text": [
      "Embedding layer is  Embedding(400001, 100)\n",
      "Embedding layer weights  torch.Size([400001, 100])\n",
      "diagnosis_LSTM(\n",
      "  (embeddings): Embedding(400001, 100)\n",
      "  (lstm): LSTM(100, 256, num_layers=2, batch_first=True)\n",
      "  (fc): Linear(in_features=256, out_features=1, bias=True)\n",
      "  (output): Sigmoid()\n",
      ")\n"
     ]
    }
   ],
   "source": [
    "# Instantiate the model w/ hyperparams\n",
    "num_layers = 2\n",
    "num_classes = 1\n",
    "hidden_size = 256\n",
    "embedding_dim = 100 # it should match with the glove file embeddings dimension above\n",
    "vocab_len = len(wordsList)+1 # +1 for the 0 padding\n",
    "\n",
    "net = diagnosis_LSTM(embedding_dim, num_layers, num_classes, vocab_len, hidden_size)\n",
    "print net"
   ]
  },
  {
   "cell_type": "code",
   "execution_count": 97,
   "metadata": {},
   "outputs": [
    {
     "name": "stdout",
     "output_type": "stream",
     "text": [
      "sample_x shape torch.Size([1, 25])\n",
      "Embedding layer output shape torch.Size([1, 25, 100])\n",
      "LSTM layer output shape torch.Size([256])\n",
      "FC layer output shape torch.Size([1, 1])\n",
      "Sigmoid layer output shape torch.Size([1, 1])\n",
      "Sigmoid layer output  tensor([[0.4550]], grad_fn=<SigmoidBackward>)\n",
      "Output layer output shape torch.Size([1, 1])\n",
      "Output layer output  tensor([[0.4550]], grad_fn=<ViewBackward>)\n",
      "Final sentiment prediction,  tensor([0.4550], grad_fn=<SelectBackward>)\n",
      "(0, tensor(0., grad_fn=<AddBackward>))\n",
      "sample_x shape torch.Size([1, 25])\n",
      "Embedding layer output shape torch.Size([1, 25, 100])\n",
      "LSTM layer output shape torch.Size([256])\n",
      "FC layer output shape torch.Size([1, 1])\n",
      "Sigmoid layer output shape torch.Size([1, 1])\n",
      "Sigmoid layer output  tensor([[0.4550]], grad_fn=<SigmoidBackward>)\n",
      "Output layer output shape torch.Size([1, 1])\n",
      "Output layer output  tensor([[0.4550]], grad_fn=<ViewBackward>)\n",
      "Final sentiment prediction,  tensor([0.4550], grad_fn=<SelectBackward>)\n",
      "(1, tensor(0., grad_fn=<AddBackward>))\n",
      "sample_x shape torch.Size([1, 25])\n",
      "Embedding layer output shape torch.Size([1, 25, 100])\n",
      "LSTM layer output shape torch.Size([256])\n",
      "FC layer output shape torch.Size([1, 1])\n",
      "Sigmoid layer output shape torch.Size([1, 1])\n",
      "Sigmoid layer output  tensor([[0.4550]], grad_fn=<SigmoidBackward>)\n",
      "Output layer output shape torch.Size([1, 1])\n",
      "Output layer output  tensor([[0.4550]], grad_fn=<ViewBackward>)\n",
      "Final sentiment prediction,  tensor([0.4550], grad_fn=<SelectBackward>)\n",
      "(2, tensor(0., grad_fn=<AddBackward>))\n"
     ]
    }
   ],
   "source": [
    "# training loop\n",
    "num_epochs = 3\n",
    "learning_rate = 0.0001\n",
    "\n",
    "loss_fn = nn.CrossEntropyLoss()\n",
    "# loss_fn = nn.NLLLoss\n",
    "optim = torch.optim.SGD(net.parameters(), lr = learning_rate)\n",
    "for epoch in range(num_epochs):\n",
    "    ep_loss = 0.\n",
    "        \n",
    "    # loop over training data\n",
    "    sample_x = sample_x.type(torch.LongTensor)\n",
    "    print \"sample_x shape\", sample_x.shape  # should be (batch_size, max_seq_length)\n",
    "    for i in range(len(sample_x)):\n",
    "        sent = torch.LongTensor(sample_x[i]).unsqueeze(0)\n",
    "        target = sample_y[i].unsqueeze(0)\n",
    "        \n",
    "        pred = net.forward(sent, batch_size)\n",
    "        loss = loss_fn(pred, target)\n",
    "        loss.backward()\n",
    "        optim.step()\n",
    "        optim.zero_grad()\n",
    "        ep_loss += loss\n",
    "    \n",
    "    print(epoch, ep_loss)"
   ]
  },
  {
   "cell_type": "code",
   "execution_count": null,
   "metadata": {},
   "outputs": [],
   "source": []
  }
 ],
 "metadata": {
  "kernelspec": {
   "display_name": "Python 2",
   "language": "python",
   "name": "python2"
  },
  "language_info": {
   "codemirror_mode": {
    "name": "ipython",
    "version": 2
   },
   "file_extension": ".py",
   "mimetype": "text/x-python",
   "name": "python",
   "nbconvert_exporter": "python",
   "pygments_lexer": "ipython2",
   "version": "2.7.15"
  }
 },
 "nbformat": 4,
 "nbformat_minor": 2
}
